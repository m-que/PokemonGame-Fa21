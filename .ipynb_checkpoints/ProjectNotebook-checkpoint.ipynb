{
 "cells": [
  {
   "cell_type": "markdown",
   "metadata": {},
   "source": [
    "# Project Description"
   ]
  },
  {
   "cell_type": "markdown",
   "metadata": {},
   "source": [
    "### Pokemon Battle Game"
   ]
  },
  {
   "cell_type": "markdown",
   "metadata": {},
   "source": [
    "My project is a Pokemon game, inspired by the mobile game Pokemon Go. There are several paths that the user can take to engage in different battles, as well as purchase different items from the shop to catch and heal Pokemon. There are three total Pokemon types used in the game: Grass, Fire, and Water type. Grass type have an element advantage over water type, water type have an element advantage over fire type, and fire type have an element advantage over grass type. The player can choose to start with a Pokemon in one of these types and battle against other Pokemon to gain experience points and level up. The level of the Pokemon determines the max health and attack strength of the Pokemon, with higher levels corresponding to higher health and stronger attacks. The player will start off with a random number of potions and pokeballs and a set number of coins that they can use to buy items from the shop. The player can use potions during battles to heal or revive their Pokemon. Once the opponent Pokemon faints, the player wins the battle and obtains a certain number of coins depending on the type of battle. The player can also proceed to try to catch the Pokemon with a Pokeball. The player can then use the coins they win to buy more items and continue playing the game.\n",
    "\n",
    "There are four different types of Pokemon battles, which consists of battles against wild Pokemon, Team Rocket's pokemon, other trainer's Pokemon, and gym Pokemon in the order of increasing difficulty. Battles against wild Pokemon are the easiest because the player only has to defeat one low level opponent Pokemon before attempting to catch it. Battles against Team Rocket's and other Trainer's pokemon are more difficult because the user has to beat multiple opponent Pokemon at slighly higher levels in order to win. In gym battles, the user must beat one legendary Pokemon at a very high level to win and there is a low probability to catch the legendary Pokemon, thus they are the most difficult. The player may continue the game and collect as many Pokmeon as they wish as long as keep winning battles. Once the player runs out of usable Pokemon (not fainted) in a battle, they lose and the game ends. \n",
    "\n",
    "I tried my best to balance the numbers of the game evenly to make sure the battles are not too easy or difficult, but since the opponent Pokemon in the battles are randomly generated, this may scale up or down depending on the types of Pokemon the user has collected. I recommend first viewing the inventory to view the number of potions and Pokeballs the player has and then buying more from the shop as needed. I then recommend searching the wild so that the player may win easier battles and add more Pokemon to their collection before attempting to fight harder battles against Team Rocket, other trainers, and gym Pokemons. Otherwise, if user inputs \"test\" for their starter Pokemon at the onset of the game, they will obtain the mythical Pokemon Archeus that can instantly defeat opponent Pokemon if one wishes to observe the different elements of the game. \n",
    "\n",
    "This project was a lot of fun, and I hope you enjoy playing! "
   ]
  },
  {
   "cell_type": "markdown",
   "metadata": {},
   "source": [
    "## Enter the Game!\n"
   ]
  },
  {
   "cell_type": "code",
   "execution_count": 1,
   "metadata": {},
   "outputs": [],
   "source": [
    "from my_module.Main import main\n",
    "\n",
    "# Run me!\n",
    "main()"
   ]
  },
  {
   "cell_type": "markdown",
   "metadata": {},
   "source": [
    "## Extra Credit (*optional*)\n",
    "\n",
    "1. I had no experience in coding prior to taking this course. \n",
    "2. My game involved using many classes and functions together for it to work properly. I also needed to work with loops, dicitonaries, conditionals, and methods to implement my ideas. I believe that I have challenged myself in making this game through learning how to take in user input, ensure that each input goes to the proper function, and correctly calling and using classes and functions in each other. I also tried to give the user several options to do different activites and explore various aspects of the game. In the future, if given more time and practice, I would also like to add more ideas to the game such as different attack moves and evolutions for Pokemon and more element types."
   ]
  }
 ],
 "metadata": {
  "kernelspec": {
   "display_name": "Python 3 (ipykernel)",
   "language": "python",
   "name": "python3"
  },
  "language_info": {
   "codemirror_mode": {
    "name": "ipython",
    "version": 3
   },
   "file_extension": ".py",
   "mimetype": "text/x-python",
   "name": "python",
   "nbconvert_exporter": "python",
   "pygments_lexer": "ipython3",
   "version": "3.9.7"
  }
 },
 "nbformat": 4,
 "nbformat_minor": 2
}
